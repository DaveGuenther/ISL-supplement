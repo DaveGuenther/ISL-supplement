{
 "cells": [
  {
   "cell_type": "markdown",
   "metadata": {},
   "source": [
    "# Introduction to Statistical Learning\n",
    "## Chapter 2 Exercises"
   ]
  },
  {
   "cell_type": "markdown",
   "metadata": {},
   "source": [
    "**Question**\n",
    "1. For each of parts (a) through (d), indicate whether we would generally\n",
    "expect the performance of a flexible statistical learning method to be\n",
    "better or worse than an inflexible method. Justify your answer.<br>\n",
    "\n",
    "<br>\n",
    "(a) The sample size n is extremely large, and the number of predictors\n",
    "p is small.\n",
    "<br>\n",
    "(b) The number of predictors p is extremely large, and the number\n",
    "of observations n is small.\n",
    "<br>\n",
    "(c) The relationship between the predictors and response is highly\n",
    "non-linear.\n",
    "<br>\n",
    "(d) The variance of the error terms, i.e. $\\sigma^{2}=\\text{Var}(\\epsilon)$, is extremely\n",
    "high."
   ]
  },
  {
   "cell_type": "markdown",
   "metadata": {},
   "source": [
    "**Answer** \n",
    "\n",
    "(a) With few predictors, I would use a more rigid model like Linear Regression or KNN with a mid-sized value of K.  KNN works better when there are fewer features because the average of K neighbors tends to be more local\n",
    "\n",
    "(b) I would use a more flexible model, though I'm not entirely sure why..  I know I would not use KNN because of the curse of dimensionality (the greater the number of features, the less local averaging of K neighbors becomes).  I'm not sure I understand how a small n influences the model choice yet.\n",
    "\n",
    "(c) If the relationship between the predictors and the response is known to be non-linear, we should use flexible model in order to predict it, and NOT a rigid model.\n",
    "\n",
    "(d) If the variance of the error is high, I think I would want to use a rigid model because as models before more flexible the variance of errors only grows"
   ]
  },
  {
   "cell_type": "markdown",
   "metadata": {},
   "source": [
    "**Question**<br>\n",
    "\n",
    "2. Explain whether each scenario is a classification or regression problem,\n",
    "and indicate whether we are most interested in inference or prediction.\n",
    "Finally, provide n and p.\n",
    "\n",
    "<br>\n",
    "(a) We collect a set of data on the top 500 firms in the US. For each\n",
    "firm we record profit, number of employees, industry and the\n",
    "CEO salary. We are interested in understanding which factors\n",
    "affect CEO salary.\n",
    "<br>\n",
    "(b) We are considering launching a new product and wish to know\n",
    "whether it will be a success or a failure. We collect data on 20\n",
    "similar products that were previously launched. For each product\n",
    "we have recorded whether it was a success or failure, price\n",
    "charged for the product, marketing budget, competition price,\n",
    "and ten other variables.\n",
    "<br>\n",
    "(c) We are interested in predicting the % change in the USD/Euro\n",
    "exchange rate in relation to the weekly changes in the world\n",
    "stock markets. Hence we collect weekly data for all of 2012. For\n",
    "each week we record the % change in the USD/Euro, the %\n",
    "change in the US market, the % change in the British market,\n",
    "and the % change in the German market."
   ]
  },
  {
   "cell_type": "markdown",
   "metadata": {},
   "source": [
    "**Answer**<br>\n",
    "(a) This would be an inference problem, where we want to predict a quantitative response given various inputs.  n=500 firms, p = profit and number of employees<br>\n",
    "(b) This would be a classification problem.  We are interested in looking at a number of input features and predicting a qualitative event/value.  n=20 products, p=price charged, marketing budget, competition price, and ten other variables.<br>\n",
    "(c) This would be an inference problem, where we want to predict a quantitative response (% change in USD/Euro) given various inputs.  n= 52 weeks of data from 2012 (1 row per week), p=% Change in US Market, % Change in the british market, and the % change in the German Market"
   ]
  },
  {
   "cell_type": "markdown",
   "metadata": {},
   "source": [
    "**Question**<br>\n",
    "3. We now revisit the bias-variance decomposition.<br>\n",
    "<br>\n",
    "(a) Provide a sketch of typical (squared) bias, variance, training error,\n",
    "test error, and Bayes (or irreducible) error curves, on a single\n",
    "plot, as we go from less flexible statistical learning methods\n",
    "towards more flexible approaches. The x-axis should represent\n",
    "the amount of flexibility in the method, and the y-axis should\n",
    "represent the values for each curve. There should be five curves.\n",
    "Make sure to label each one.\n",
    "<br>\n",
    "(b) Explain why each of the five curves has the shape displayed in\n",
    "part (a)."
   ]
  },
  {
   "attachments": {
    "image.png": {
     "image/png": "[encoded data removed]"
    }
   },
   "cell_type": "markdown",
   "metadata": {},
   "source": [
    "(a)\n",
    "![image.png](attachment:image.png)\n",
    "Legend:\n",
    "- Green: MSE on Test data\n",
    "- Purple: MSE on Training Data\n",
    "- Red: Bias on Test data\n",
    "- Blue: Variance on Test data\n",
    "- Black: Irreducible Error\n",
    "\n",
    "(b) \n",
    "<br>\n",
    "Black: Irreducible Error - This is the inherent error in the true function over the population.  Our goal is to get as close to it as possible.\n",
    "<br>\n",
    "Blue: Variance on Test data - This number goes up as the model becomes more flexible due to things like overfitting a model over many iterations of the model runtime on samples of test data.\n",
    "<br>\n",
    "Red: Bias on Test data - This is hard to explain, but it has to do with differences in models when the model is run many times over.  It is supposed to go down as the model is more flexible, I can understand that because overfitting will cause low error, but I'm not strong on this definition\n",
    "<br>\n",
    "Green: MSE on Test data, this is the addition of the Red, Blue, and Black lines. It represents the Mean Squared Error over the Test dataset.  Bias and variance are tradeoffs when selecting the best model, but we want to pick the model that most closely approaches the Irreducible Error.  The MSE(Test) will never beat the Irreducible error\n",
    "<br>\n",
    "Purple: MSE Of Training Data - We aren't supposed to test on training data, but if we did, we get this line.  It will always approach 0 as the model becomes more flexible, because at the mode flexible case, we can exactly predict every case if we test on data we trained on."
   ]
  },
  {
   "cell_type": "markdown",
   "metadata": {},
   "source": []
  }
 ],
 "metadata": {
  "kernelspec": {
   "display_name": ".ISL-venv",
   "language": "python",
   "name": "python3"
  },
  "language_info": {
   "codemirror_mode": {
    "name": "ipython",
    "version": 3
   },
   "file_extension": ".py",
   "mimetype": "text/x-python",
   "name": "python",
   "nbconvert_exporter": "python",
   "pygments_lexer": "ipython3",
   "version": "3.12.9"
  }
 },
 "nbformat": 4,
 "nbformat_minor": 2
}
